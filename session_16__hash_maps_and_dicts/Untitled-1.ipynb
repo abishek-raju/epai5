{
 "cells": [
  {
   "cell_type": "code",
   "execution_count": 1,
   "metadata": {},
   "outputs": [],
   "source": [
    "import unittest\n",
    "from inventory_system import (\n",
    "    create_inventory,\n",
    "    update_inventory,\n",
    "    merge_inventories,\n",
    "    get_items_in_category,\n",
    "    find_most_expensive_item,\n",
    "    check_item_in_stock,\n",
    "    view_categories,\n",
    "    view_all_items,\n",
    "    view_category_item_pairs,\n",
    "    copy_inventory\n",
    ")\n"
   ]
  },
  {
   "cell_type": "code",
   "execution_count": 4,
   "metadata": {},
   "outputs": [],
   "source": [
    "class TestInventorySystem(unittest.TestCase):\n",
    "\n",
    "    def setUp(self):\n",
    "        self.inventory = create_inventory()\n",
    "\n",
    "    def test_create_inventory(self):\n",
    "        self.assertIsInstance(self.inventory, dict)\n",
    "        self.assertIn('Electronics', self.inventory)\n",
    "        self.assertIn('Groceries', self.inventory)\n",
    "        \n",
    "    def test_update_inventory(self):\n",
    "        update_info = {'price': 1200, 'quantity': 7}\n",
    "        update_inventory(self.inventory, 'Electronics', 'Laptop', update_info)\n",
    "        item = self.inventory['Electronics']['Laptop']\n",
    "        self.assertEqual(item['price'], 1200)\n",
    "        self.assertEqual(item['quantity'], 7)\n"
   ]
  },
  {
   "cell_type": "code",
   "execution_count": 42,
   "metadata": {},
   "outputs": [],
   "source": [
    "test = TestInventorySystem()"
   ]
  },
  {
   "cell_type": "code",
   "execution_count": 6,
   "metadata": {},
   "outputs": [],
   "source": [
    "test.setUp()"
   ]
  },
  {
   "cell_type": "code",
   "execution_count": 7,
   "metadata": {},
   "outputs": [],
   "source": [
    "test.test_create_inventory()"
   ]
  },
  {
   "cell_type": "code",
   "execution_count": 8,
   "metadata": {},
   "outputs": [
    {
     "data": {
      "text/plain": [
       "{'Electronics': {'Laptop': {'price': 120, 'quantity': 1}}, 'Groceries': {}}"
      ]
     },
     "execution_count": 8,
     "metadata": {},
     "output_type": "execute_result"
    }
   ],
   "source": [
    "test.inventory"
   ]
  },
  {
   "cell_type": "code",
   "execution_count": 9,
   "metadata": {},
   "outputs": [],
   "source": [
    "test.test_update_inventory()"
   ]
  },
  {
   "cell_type": "code",
   "execution_count": 10,
   "metadata": {},
   "outputs": [
    {
     "data": {
      "text/plain": [
       "{'Electronics': {'Laptop': {'price': 1200, 'quantity': 7}}, 'Groceries': {}}"
      ]
     },
     "execution_count": 10,
     "metadata": {},
     "output_type": "execute_result"
    }
   ],
   "source": [
    "test.inventory"
   ]
  },
  {
   "cell_type": "code",
   "execution_count": 11,
   "metadata": {},
   "outputs": [
    {
     "data": {
      "text/plain": [
       "{'Laptop': {'price': 1200, 'quantity': 7}}"
      ]
     },
     "execution_count": 11,
     "metadata": {},
     "output_type": "execute_result"
    }
   ],
   "source": [
    "get_items_in_category(test.inventory, 'Electronics')"
   ]
  },
  {
   "cell_type": "code",
   "execution_count": 12,
   "metadata": {},
   "outputs": [
    {
     "data": {
      "text/plain": [
       "True"
      ]
     },
     "execution_count": 12,
     "metadata": {},
     "output_type": "execute_result"
    }
   ],
   "source": [
    "\"Laptop\" in get_items_in_category(test.inventory, 'Electronics')"
   ]
  },
  {
   "cell_type": "code",
   "execution_count": 15,
   "metadata": {},
   "outputs": [
    {
     "name": "stdout",
     "output_type": "stream",
     "text": [
      "Electronics {'Laptop': {'price': 1200, 'quantity': 7}} Laptop {'price': 1200, 'quantity': 7}\n"
     ]
    }
   ],
   "source": [
    "for k_categories,v_categories in test.inventory.items():\n",
    "    for k_prod,v_prod in v_categories.items():\n",
    "        print(k_categories,v_categories,k_prod,v_prod)"
   ]
  },
  {
   "cell_type": "code",
   "execution_count": 19,
   "metadata": {},
   "outputs": [],
   "source": [
    "update_info = {'price': 12000, 'quantity': 7}\n",
    "update_inventory(test.inventory, 'Electronics', 'Laptop1', update_info)"
   ]
  },
  {
   "cell_type": "code",
   "execution_count": 23,
   "metadata": {},
   "outputs": [
    {
     "data": {
      "text/plain": [
       "{'Electronics': {'Laptop': {'price': 1200, 'quantity': 7},\n",
       "  'Laptop1': {'price': 12000, 'quantity': 7}},\n",
       " 'Groceries': {}}"
      ]
     },
     "execution_count": 23,
     "metadata": {},
     "output_type": "execute_result"
    }
   ],
   "source": [
    "test.inventory"
   ]
  },
  {
   "cell_type": "code",
   "execution_count": 22,
   "metadata": {},
   "outputs": [
    {
     "data": {
      "text/plain": [
       "{'price': 1200, 'quantity': 7}"
      ]
     },
     "execution_count": 22,
     "metadata": {},
     "output_type": "execute_result"
    }
   ],
   "source": [
    "v_prod"
   ]
  },
  {
   "cell_type": "code",
   "execution_count": 21,
   "metadata": {},
   "outputs": [
    {
     "ename": "TypeError",
     "evalue": "'>' not supported between instances of 'dict' and 'dict'",
     "output_type": "error",
     "traceback": [
      "\u001b[0;31m---------------------------------------------------------------------------\u001b[0m",
      "\u001b[0;31mTypeError\u001b[0m                                 Traceback (most recent call last)",
      "Cell \u001b[0;32mIn[21], line 1\u001b[0m\n\u001b[0;32m----> 1\u001b[0m \u001b[38;5;28;43mmax\u001b[39;49m\u001b[43m(\u001b[49m\u001b[43mv_prod\u001b[49m\u001b[43m \u001b[49m\u001b[38;5;28;43;01mfor\u001b[39;49;00m\u001b[43m \u001b[49m\u001b[43mk_categories\u001b[49m\u001b[43m,\u001b[49m\u001b[43mv_categories\u001b[49m\u001b[43m \u001b[49m\u001b[38;5;129;43;01min\u001b[39;49;00m\u001b[43m \u001b[49m\u001b[43mtest\u001b[49m\u001b[38;5;241;43m.\u001b[39;49m\u001b[43minventory\u001b[49m\u001b[38;5;241;43m.\u001b[39;49m\u001b[43mitems\u001b[49m\u001b[43m(\u001b[49m\u001b[43m)\u001b[49m\u001b[43m \u001b[49m\u001b[38;5;28;43;01mfor\u001b[39;49;00m\u001b[43m \u001b[49m\u001b[43mk_prod\u001b[49m\u001b[43m,\u001b[49m\u001b[43mv_prod\u001b[49m\u001b[43m \u001b[49m\u001b[38;5;129;43;01min\u001b[39;49;00m\u001b[43m \u001b[49m\u001b[43mv_categories\u001b[49m\u001b[38;5;241;43m.\u001b[39;49m\u001b[43mitems\u001b[49m\u001b[43m(\u001b[49m\u001b[43m)\u001b[49m\u001b[43m)\u001b[49m\n",
      "\u001b[0;31mTypeError\u001b[0m: '>' not supported between instances of 'dict' and 'dict'"
     ]
    }
   ],
   "source": [
    "max(v_prod for k_categories,v_categories in test.inventory.items() for k_prod,v_prod in v_categories.items())\n",
    "    \n",
    "        "
   ]
  },
  {
   "cell_type": "code",
   "execution_count": 27,
   "metadata": {},
   "outputs": [
    {
     "data": {
      "text/plain": [
       "dict_items([('Electronics', {'Laptop': {'price': 1200, 'quantity': 7}, 'Laptop1': {'price': 12000, 'quantity': 7}}), ('Groceries', {})])"
      ]
     },
     "execution_count": 27,
     "metadata": {},
     "output_type": "execute_result"
    }
   ],
   "source": [
    "test.inventory.items()"
   ]
  },
  {
   "cell_type": "code",
   "execution_count": 32,
   "metadata": {},
   "outputs": [
    {
     "data": {
      "text/plain": [
       "[{'price': 1200, 'quantity': 7}, {'price': 12000, 'quantity': 7}]"
      ]
     },
     "execution_count": 32,
     "metadata": {},
     "output_type": "execute_result"
    }
   ],
   "source": [
    "items = []\n",
    "for k_categories,v_categories in test.inventory.items():\n",
    "    items += list(v_categories.values())\n",
    "items"
   ]
  },
  {
   "cell_type": "code",
   "execution_count": 78,
   "metadata": {},
   "outputs": [],
   "source": [
    "inv1 = create_inventory()\n",
    "inv2 = {\n",
    "    'Electronics': {\n",
    "        'Laptop': {'name': 'Laptop', 'price': 1100, 'quantity': 3},\n",
    "        'Tablet': {'name': 'Tablet', 'price': 500, 'quantity': 15}\n",
    "    },\n",
    "    'Clothing': {\n",
    "        'Jeans': {'name': 'Jeans', 'price': 40, 'quantity': 50}\n",
    "    }\n",
    "}\n",
    "# merged_inv = merge_inventories(inv1, inv2)"
   ]
  },
  {
   "cell_type": "code",
   "execution_count": 65,
   "metadata": {},
   "outputs": [
    {
     "data": {
      "text/plain": [
       "{'Electronics': {'Laptop': {'price': 120, 'quantity': 1}}, 'Groceries': {}}"
      ]
     },
     "execution_count": 65,
     "metadata": {},
     "output_type": "execute_result"
    }
   ],
   "source": [
    "inv1"
   ]
  },
  {
   "cell_type": "code",
   "execution_count": 66,
   "metadata": {},
   "outputs": [
    {
     "data": {
      "text/plain": [
       "{'Electronics': {'Laptop': {'name': 'Laptop', 'price': 1100, 'quantity': 3},\n",
       "  'Tablet': {'name': 'Tablet', 'price': 500, 'quantity': 15}},\n",
       " 'Clothing': {'Jeans': {'name': 'Jeans', 'price': 40, 'quantity': 50}}}"
      ]
     },
     "execution_count": 66,
     "metadata": {},
     "output_type": "execute_result"
    }
   ],
   "source": [
    "inv2"
   ]
  },
  {
   "cell_type": "code",
   "execution_count": 77,
   "metadata": {},
   "outputs": [
    {
     "data": {
      "text/plain": [
       "{'Electronics': {'Laptop': {'name': 'Laptop', 'price': 1100, 'quantity': 3},\n",
       "  'Tablet': {'name': 'Tablet', 'price': 500, 'quantity': 15}},\n",
       " 'Groceries': {},\n",
       " 'Clothing': {'Jeans': {'name': 'Jeans', 'price': 40, 'quantity': 50}}}"
      ]
     },
     "execution_count": 77,
     "metadata": {},
     "output_type": "execute_result"
    }
   ],
   "source": [
    "{**inv1, **inv2}"
   ]
  },
  {
   "cell_type": "code",
   "execution_count": 72,
   "metadata": {},
   "outputs": [],
   "source": [
    "inv1.update(inv2)"
   ]
  },
  {
   "cell_type": "code",
   "execution_count": 53,
   "metadata": {},
   "outputs": [],
   "source": [
    "test_1 = dict(inv2, **inv1)"
   ]
  },
  {
   "cell_type": "code",
   "execution_count": 54,
   "metadata": {},
   "outputs": [
    {
     "data": {
      "text/plain": [
       "{'Laptop': {'name': 'Laptop', 'price': 1100, 'quantity': 3},\n",
       " 'Tablet': {'name': 'Tablet', 'price': 500, 'quantity': 15}}"
      ]
     },
     "execution_count": 54,
     "metadata": {},
     "output_type": "execute_result"
    }
   ],
   "source": [
    "test_1[\"Electronics\"]"
   ]
  },
  {
   "cell_type": "code",
   "execution_count": 55,
   "metadata": {},
   "outputs": [
    {
     "data": {
      "text/plain": [
       "True"
      ]
     },
     "execution_count": 55,
     "metadata": {},
     "output_type": "execute_result"
    }
   ],
   "source": [
    "\"Tablet\" in test_1[\"Electronics\"]"
   ]
  },
  {
   "cell_type": "code",
   "execution_count": 44,
   "metadata": {},
   "outputs": [],
   "source": [
    "merged_inv"
   ]
  },
  {
   "cell_type": "code",
   "execution_count": 2,
   "metadata": {},
   "outputs": [],
   "source": [
    "inv1 = create_inventory()\n",
    "inv2 = {\n",
    "    'Electronics': {\n",
    "        'Laptop': {'name': 'Laptop', 'price': 1100, 'quantity': 3},\n",
    "        'Tablet': {'name': 'Tablet', 'price': 500, 'quantity': 15}\n",
    "    },\n",
    "    'Clothing': {\n",
    "        'Jeans': {'name': 'Jeans', 'price': 40, 'quantity': 50}\n",
    "    }\n",
    "}"
   ]
  },
  {
   "cell_type": "code",
   "execution_count": 3,
   "metadata": {},
   "outputs": [
    {
     "data": {
      "text/plain": [
       "{'Electronics': {'Laptop': {'name': 'Laptop', 'price': 120, 'quantity': 8}},\n",
       " 'Groceries': {}}"
      ]
     },
     "execution_count": 3,
     "metadata": {},
     "output_type": "execute_result"
    }
   ],
   "source": [
    "inv1"
   ]
  },
  {
   "cell_type": "code",
   "execution_count": 4,
   "metadata": {},
   "outputs": [
    {
     "data": {
      "text/plain": [
       "{'Electronics': {'Laptop': {'name': 'Laptop', 'price': 1100, 'quantity': 3},\n",
       "  'Tablet': {'name': 'Tablet', 'price': 500, 'quantity': 15}},\n",
       " 'Clothing': {'Jeans': {'name': 'Jeans', 'price': 40, 'quantity': 50}}}"
      ]
     },
     "execution_count": 4,
     "metadata": {},
     "output_type": "execute_result"
    }
   ],
   "source": [
    "inv2"
   ]
  },
  {
   "cell_type": "code",
   "execution_count": 5,
   "metadata": {},
   "outputs": [],
   "source": [
    "for k_categories,v_categories in inv2.items():\n",
    "    inv1.setdefault(k_categories,v_categories)\n",
    "    for k_prod,v_prod in v_categories.items():\n",
    "        inv1[k_categories].setdefault(k_prod,v_prod)"
   ]
  },
  {
   "cell_type": "code",
   "execution_count": 6,
   "metadata": {},
   "outputs": [
    {
     "data": {
      "text/plain": [
       "{'Electronics': {'Laptop': {'name': 'Laptop', 'price': 120, 'quantity': 8},\n",
       "  'Tablet': {'name': 'Tablet', 'price': 500, 'quantity': 15}},\n",
       " 'Groceries': {},\n",
       " 'Clothing': {'Jeans': {'name': 'Jeans', 'price': 40, 'quantity': 50}}}"
      ]
     },
     "execution_count": 6,
     "metadata": {},
     "output_type": "execute_result"
    }
   ],
   "source": [
    "inv1"
   ]
  },
  {
   "cell_type": "code",
   "execution_count": 86,
   "metadata": {},
   "outputs": [
    {
     "data": {
      "text/plain": [
       "{'Electronics': {'Laptop': {'price': 120, 'quantity': 1}},\n",
       " 'Groceries': {},\n",
       " 'Clothing': {'Jeans': {'name': 'Jeans', 'price': 40, 'quantity': 50}}}"
      ]
     },
     "execution_count": 86,
     "metadata": {},
     "output_type": "execute_result"
    }
   ],
   "source": [
    "inv1"
   ]
  }
 ],
 "metadata": {
  "kernelspec": {
   "display_name": "epai5",
   "language": "python",
   "name": "python3"
  },
  "language_info": {
   "codemirror_mode": {
    "name": "ipython",
    "version": 3
   },
   "file_extension": ".py",
   "mimetype": "text/x-python",
   "name": "python",
   "nbconvert_exporter": "python",
   "pygments_lexer": "ipython3",
   "version": "3.8.20"
  }
 },
 "nbformat": 4,
 "nbformat_minor": 2
}
